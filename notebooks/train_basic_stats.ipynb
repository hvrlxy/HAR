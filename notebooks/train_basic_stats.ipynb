{
 "cells": [
  {
   "cell_type": "code",
   "execution_count": 117,
   "metadata": {},
   "outputs": [],
   "source": [
    "import os\n",
    "import sys\n",
    "from pathlib import Path\n",
    "sys.path.append(os.path.dirname(os.path.abspath(Path.cwd())))\n",
    "import pandas as pd\n",
    "import numpy as np\n",
    "import matplotlib.pyplot as plt\n",
    "from collections import Counter\n",
    "from imblearn.over_sampling import SMOTE \n",
    "from sklearn.model_selection import train_test_split\n",
    "from sklearn import linear_model\n",
    "from sklearn.ensemble import RandomForestClassifier\n",
    "from xgboost import XGBClassifier\n",
    "from lightgbm import LGBMClassifier\n",
    "from sklearn.metrics import classification_report, accuracy_score, make_scorer\n",
    "# from sklearn.model_selection import cross_val_score\n",
    "from sklearn import preprocessing\n",
    "from sklearn.metrics import plot_confusion_matrix\n"
   ]
  },
  {
   "cell_type": "markdown",
   "metadata": {},
   "source": [
    "## Load the Dataset\n",
    "\n",
    "We will load the basic stats dataset from user 1 that we create in the analysis.ipynb notebook, and split the dataset into the train set and the test set. Since out dataset is very imbalance, we will be using SMOTE to peform oversampling on the data."
   ]
  },
  {
   "cell_type": "code",
   "execution_count": 118,
   "metadata": {},
   "outputs": [
    {
     "data": {
      "text/html": [
       "<div>\n",
       "<style scoped>\n",
       "    .dataframe tbody tr th:only-of-type {\n",
       "        vertical-align: middle;\n",
       "    }\n",
       "\n",
       "    .dataframe tbody tr th {\n",
       "        vertical-align: top;\n",
       "    }\n",
       "\n",
       "    .dataframe thead th {\n",
       "        text-align: right;\n",
       "    }\n",
       "</style>\n",
       "<table border=\"1\" class=\"dataframe\">\n",
       "  <thead>\n",
       "    <tr style=\"text-align: right;\">\n",
       "      <th></th>\n",
       "      <th>min_x</th>\n",
       "      <th>max_x</th>\n",
       "      <th>mean_x</th>\n",
       "      <th>std_x</th>\n",
       "      <th>range_x</th>\n",
       "      <th>min_y</th>\n",
       "      <th>max_y</th>\n",
       "      <th>mean_y</th>\n",
       "      <th>std_y</th>\n",
       "      <th>range_y</th>\n",
       "      <th>min_z</th>\n",
       "      <th>max_z</th>\n",
       "      <th>mean_z</th>\n",
       "      <th>std_z</th>\n",
       "      <th>range_z</th>\n",
       "      <th>activity</th>\n",
       "    </tr>\n",
       "  </thead>\n",
       "  <tbody>\n",
       "    <tr>\n",
       "      <th>0</th>\n",
       "      <td>1940</td>\n",
       "      <td>1986</td>\n",
       "      <td>1961.088462</td>\n",
       "      <td>7.673593</td>\n",
       "      <td>46</td>\n",
       "      <td>2365</td>\n",
       "      <td>2396</td>\n",
       "      <td>2377.584615</td>\n",
       "      <td>5.437301</td>\n",
       "      <td>31</td>\n",
       "      <td>2086</td>\n",
       "      <td>2143</td>\n",
       "      <td>2115.726923</td>\n",
       "      <td>11.339209</td>\n",
       "      <td>57</td>\n",
       "      <td>1</td>\n",
       "    </tr>\n",
       "    <tr>\n",
       "      <th>1</th>\n",
       "      <td>1925</td>\n",
       "      <td>1999</td>\n",
       "      <td>1956.119231</td>\n",
       "      <td>12.374358</td>\n",
       "      <td>74</td>\n",
       "      <td>2340</td>\n",
       "      <td>2409</td>\n",
       "      <td>2379.503846</td>\n",
       "      <td>9.438890</td>\n",
       "      <td>69</td>\n",
       "      <td>2062</td>\n",
       "      <td>2168</td>\n",
       "      <td>2106.846154</td>\n",
       "      <td>18.925973</td>\n",
       "      <td>106</td>\n",
       "      <td>1</td>\n",
       "    </tr>\n",
       "    <tr>\n",
       "      <th>2</th>\n",
       "      <td>1919</td>\n",
       "      <td>1999</td>\n",
       "      <td>1953.280769</td>\n",
       "      <td>12.488837</td>\n",
       "      <td>80</td>\n",
       "      <td>2340</td>\n",
       "      <td>2409</td>\n",
       "      <td>2380.869231</td>\n",
       "      <td>9.430001</td>\n",
       "      <td>69</td>\n",
       "      <td>2062</td>\n",
       "      <td>2168</td>\n",
       "      <td>2101.476923</td>\n",
       "      <td>17.485666</td>\n",
       "      <td>106</td>\n",
       "      <td>1</td>\n",
       "    </tr>\n",
       "    <tr>\n",
       "      <th>3</th>\n",
       "      <td>1919</td>\n",
       "      <td>1977</td>\n",
       "      <td>1959.707692</td>\n",
       "      <td>10.208972</td>\n",
       "      <td>58</td>\n",
       "      <td>2368</td>\n",
       "      <td>2394</td>\n",
       "      <td>2379.800000</td>\n",
       "      <td>5.014881</td>\n",
       "      <td>26</td>\n",
       "      <td>2077</td>\n",
       "      <td>2138</td>\n",
       "      <td>2107.876923</td>\n",
       "      <td>10.598328</td>\n",
       "      <td>61</td>\n",
       "      <td>1</td>\n",
       "    </tr>\n",
       "    <tr>\n",
       "      <th>4</th>\n",
       "      <td>1941</td>\n",
       "      <td>1980</td>\n",
       "      <td>1964.134615</td>\n",
       "      <td>5.983339</td>\n",
       "      <td>39</td>\n",
       "      <td>2369</td>\n",
       "      <td>2390</td>\n",
       "      <td>2378.407692</td>\n",
       "      <td>3.633172</td>\n",
       "      <td>21</td>\n",
       "      <td>2086</td>\n",
       "      <td>2135</td>\n",
       "      <td>2113.100000</td>\n",
       "      <td>6.042130</td>\n",
       "      <td>49</td>\n",
       "      <td>1</td>\n",
       "    </tr>\n",
       "  </tbody>\n",
       "</table>\n",
       "</div>"
      ],
      "text/plain": [
       "   min_x  max_x       mean_x      std_x  range_x  min_y  max_y       mean_y  \\\n",
       "0   1940   1986  1961.088462   7.673593       46   2365   2396  2377.584615   \n",
       "1   1925   1999  1956.119231  12.374358       74   2340   2409  2379.503846   \n",
       "2   1919   1999  1953.280769  12.488837       80   2340   2409  2380.869231   \n",
       "3   1919   1977  1959.707692  10.208972       58   2368   2394  2379.800000   \n",
       "4   1941   1980  1964.134615   5.983339       39   2369   2390  2378.407692   \n",
       "\n",
       "      std_y  range_y  min_z  max_z       mean_z      std_z  range_z  activity  \n",
       "0  5.437301       31   2086   2143  2115.726923  11.339209       57         1  \n",
       "1  9.438890       69   2062   2168  2106.846154  18.925973      106         1  \n",
       "2  9.430001       69   2062   2168  2101.476923  17.485666      106         1  \n",
       "3  5.014881       26   2077   2138  2107.876923  10.598328       61         1  \n",
       "4  3.633172       21   2086   2135  2113.100000   6.042130       49         1  "
      ]
     },
     "execution_count": 118,
     "metadata": {},
     "output_type": "execute_result"
    }
   ],
   "source": [
    "# load the dataset to a pandas df\n",
    "data = pd.read_csv(\"../data/train_data/basic_stats/subject_1.csv\")\n",
    "data.head()"
   ]
  },
  {
   "cell_type": "code",
   "execution_count": 119,
   "metadata": {},
   "outputs": [],
   "source": [
    "# transform the dataset to numpy arrays\n",
    "X = data.loc[:, data.columns != 'activity']\n",
    "y = data['activity']\n",
    "# initialize SMOTE object for oversampling\n",
    "sm = SMOTE(random_state=42)\n",
    "# split the dataset into train and test data\n",
    "X_train, X_test, y_train, y_test = train_test_split(X, y, stratify=y, test_size=0.3)\n",
    "# fix the imbalance issue in the train dataset\n",
    "X_train, y_train = sm.fit_resample(X, y)"
   ]
  },
  {
   "cell_type": "markdown",
   "metadata": {},
   "source": [
    "## Set up a BaseLine model\n",
    "\n",
    "We will be using a Linear Classifier as our baseline model."
   ]
  },
  {
   "cell_type": "code",
   "execution_count": 120,
   "metadata": {},
   "outputs": [
    {
     "name": "stdout",
     "output_type": "stream",
     "text": [
      "              precision    recall  f1-score   support\n",
      "\n",
      "           1       1.00      1.00      1.00       644\n",
      "           2       0.95      1.00      0.97       644\n",
      "           3       0.73      0.78      0.75       644\n",
      "           4       0.92      0.88      0.90       644\n",
      "           5       1.00      1.00      1.00       644\n",
      "           6       0.91      0.92      0.92       644\n",
      "           7       0.76      0.68      0.71       644\n",
      "\n",
      "    accuracy                           0.89      4508\n",
      "   macro avg       0.89      0.89      0.89      4508\n",
      "weighted avg       0.89      0.89      0.89      4508\n",
      "\n",
      "              precision    recall  f1-score   support\n",
      "\n",
      "           1       1.00      1.00      1.00        74\n",
      "           2       0.25      1.00      0.40         2\n",
      "           3       0.23      0.73      0.35        22\n",
      "           4       0.96      0.84      0.90        62\n",
      "           5       0.86      1.00      0.92         6\n",
      "           6       0.30      0.60      0.40         5\n",
      "           7       0.96      0.71      0.81       194\n",
      "\n",
      "    accuracy                           0.79       365\n",
      "   macro avg       0.65      0.84      0.68       365\n",
      "weighted avg       0.91      0.79      0.83       365\n",
      "\n"
     ]
    }
   ],
   "source": [
    "# Initialize the regresstion\n",
    "reg = linear_model.LogisticRegression(solver='lbfgs', max_iter=1000)\n",
    "#scale the data first\n",
    "scaler = preprocessing.StandardScaler().fit(X)\n",
    "X_scaled = scaler.transform(X_train)\n",
    "X_test_scaled = scaler.transform(X_test)\n",
    "# fit the model\n",
    "reg.fit(X_scaled, y_train)\n",
    "y_pred = reg.predict(X_test_scaled)\n",
    "# Print out the report\n",
    "print(classification_report(y_train, reg.predict(X_scaled)))\n",
    "print(classification_report(y_test, y_pred))"
   ]
  },
  {
   "cell_type": "code",
   "execution_count": 121,
   "metadata": {},
   "outputs": [
    {
     "name": "stderr",
     "output_type": "stream",
     "text": [
      "/opt/homebrew/lib/python3.9/site-packages/sklearn/utils/deprecation.py:87: FutureWarning: Function plot_confusion_matrix is deprecated; Function `plot_confusion_matrix` is deprecated in 1.0 and will be removed in 1.2. Use one of the class methods: ConfusionMatrixDisplay.from_predictions or ConfusionMatrixDisplay.from_estimator.\n",
      "  warnings.warn(msg, category=FutureWarning)\n"
     ]
    },
    {
     "data": {
      "image/png": "[encoded data removed]",
      "text/plain": [
       "<Figure size 432x288 with 2 Axes>"
      ]
     },
     "metadata": {
      "needs_background": "light"
     },
     "output_type": "display_data"
    }
   ],
   "source": [
    "# plot confusion matrix\n",
    "plot_confusion_matrix(reg, X_test_scaled, y_test) \n",
    "plt.show()"
   ]
  },
  {
   "cell_type": "markdown",
   "metadata": {},
   "source": [
    "The Logistic Regression Classifier was able to predict accurately 92% of the sequence's labels. It was able to seperate activities 1, 3, and 7 quite successfully, but did poorly on other activities. We will try out several more classifiers and hopefully we'll get a better result than the baseline model."
   ]
  },
  {
   "cell_type": "markdown",
   "metadata": {},
   "source": [
    "## Tree-based Classifier\n",
    "\n",
    "In this section, we will try to fit a tree-based classification model on our dataset to see if we can outperform the baseline model. First, we will start with the random forest model:"
   ]
  },
  {
   "cell_type": "code",
   "execution_count": 122,
   "metadata": {},
   "outputs": [
    {
     "name": "stdout",
     "output_type": "stream",
     "text": [
      "              precision    recall  f1-score   support\n",
      "\n",
      "           1       1.00      1.00      1.00        74\n",
      "           2       1.00      1.00      1.00         2\n",
      "           3       0.69      1.00      0.81        22\n",
      "           4       1.00      1.00      1.00        62\n",
      "           5       1.00      1.00      1.00         6\n",
      "           6       1.00      1.00      1.00         5\n",
      "           7       1.00      0.95      0.97       194\n",
      "\n",
      "    accuracy                           0.97       365\n",
      "   macro avg       0.96      0.99      0.97       365\n",
      "weighted avg       0.98      0.97      0.97       365\n",
      "\n"
     ]
    }
   ],
   "source": [
    "# initialize a RF model\n",
    "rf = RandomForestClassifier(max_depth=10, random_state=5)\n",
    "# fit the model on the train dataset\n",
    "rf.fit(X_train, y_train)\n",
    "# predict the test dataset\n",
    "y_pred = rf.predict(X_test)\n",
    "# Print out the report\n",
    "# print(classification_report(y_train, reg.predict(X_scaled)))\n",
    "print(classification_report(y_test, y_pred))"
   ]
  },
  {
   "cell_type": "code",
   "execution_count": 123,
   "metadata": {},
   "outputs": [
    {
     "name": "stderr",
     "output_type": "stream",
     "text": [
      "/opt/homebrew/lib/python3.9/site-packages/sklearn/utils/deprecation.py:87: FutureWarning: Function plot_confusion_matrix is deprecated; Function `plot_confusion_matrix` is deprecated in 1.0 and will be removed in 1.2. Use one of the class methods: ConfusionMatrixDisplay.from_predictions or ConfusionMatrixDisplay.from_estimator.\n",
      "  warnings.warn(msg, category=FutureWarning)\n"
     ]
    },
    {
     "data": {
      "image/png": "[encoded data removed]",
      "text/plain": [
       "<Figure size 432x288 with 2 Axes>"
      ]
     },
     "metadata": {
      "needs_background": "light"
     },
     "output_type": "display_data"
    }
   ],
   "source": [
    "# plot confusion matrix\n",
    "plot_confusion_matrix(rf, X_test, y_test) \n",
    "plt.show()"
   ]
  },
  {
   "cell_type": "markdown",
   "metadata": {},
   "source": [
    "We can see that there's big improvements in the accuracy anf f1 score, especially this model was able to classify between activity 3 and 6 much better than the baseline model. However, we still want to see if we can increase this improvement further. Next, let's try the XGBoost model, a well-known classifier known for being good at problems like this."
   ]
  },
  {
   "cell_type": "code",
   "execution_count": 124,
   "metadata": {},
   "outputs": [
    {
     "name": "stdout",
     "output_type": "stream",
     "text": [
      "              precision    recall  f1-score   support\n",
      "\n",
      "           0       1.00      1.00      1.00        74\n",
      "           1       1.00      1.00      1.00         2\n",
      "           2       1.00      1.00      1.00        22\n",
      "           3       1.00      1.00      1.00        62\n",
      "           4       1.00      1.00      1.00         6\n",
      "           5       1.00      1.00      1.00         5\n",
      "           6       1.00      1.00      1.00       194\n",
      "\n",
      "    accuracy                           1.00       365\n",
      "   macro avg       1.00      1.00      1.00       365\n",
      "weighted avg       1.00      1.00      1.00       365\n",
      "\n"
     ]
    },
    {
     "name": "stderr",
     "output_type": "stream",
     "text": [
      "/opt/homebrew/lib/python3.9/site-packages/sklearn/utils/deprecation.py:87: FutureWarning: Function plot_confusion_matrix is deprecated; Function `plot_confusion_matrix` is deprecated in 1.0 and will be removed in 1.2. Use one of the class methods: ConfusionMatrixDisplay.from_predictions or ConfusionMatrixDisplay.from_estimator.\n",
      "  warnings.warn(msg, category=FutureWarning)\n"
     ]
    },
    {
     "data": {
      "image/png": "[encoded data removed]",
      "text/plain": [
       "<Figure size 432x288 with 2 Axes>"
      ]
     },
     "metadata": {
      "needs_background": "light"
     },
     "output_type": "display_data"
    }
   ],
   "source": [
    "# initialize XGBoost classifier\n",
    "xgb = XGBClassifier()\n",
    "# transform the y_train and Y-test class values to start from 0 instead of 1\n",
    "y_transformed_train = [i - 1 for i in y_train]\n",
    "y_transformed_test = [i - 1 for i in y_test]\n",
    "# fit the model\n",
    "xgb.fit(X_train, y_transformed_train)\n",
    "# predict the test dataset\n",
    "y_pred = xgb.predict(X_test)\n",
    "# print out the report\n",
    "print(classification_report(y_transformed_test, y_pred))\n",
    "# draw the confusion matrix\n",
    "plot_confusion_matrix(xgb, X_test, y_transformed_test) \n",
    "plt.show()"
   ]
  },
  {
   "cell_type": "markdown",
   "metadata": {},
   "source": [
    "The XGBoost model was able to predict accurately 100% of the test cases."
   ]
  }
 ],
 "metadata": {
  "kernelspec": {
   "display_name": "Python 3",
   "language": "python",
   "name": "python3"
  },
  "language_info": {
   "codemirror_mode": {
    "name": "ipython",
    "version": 3
   },
   "file_extension": ".py",
   "mimetype": "text/x-python",
   "name": "python",
   "nbconvert_exporter": "python",
   "pygments_lexer": "ipython3",
   "version": "3.9.13"
  },
  "vscode": {
   "interpreter": {
    "hash": "b0fa6594d8f4cbf19f97940f81e996739fb7646882a419484c72d19e05852a7e"
   }
  }
 },
 "nbformat": 4,
 "nbformat_minor": 2
}
